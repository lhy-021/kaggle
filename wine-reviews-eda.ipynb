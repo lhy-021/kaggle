{
 "cells": [
  {
   "cell_type": "code",
   "execution_count": 1,
   "id": "b6fccea0",
   "metadata": {
    "_cell_guid": "b1076dfc-b9ad-4769-8c92-a6c4dae69d19",
    "_uuid": "8f2839f25d086af736a60e9eeb907d3b93b6e0e5",
    "execution": {
     "iopub.execute_input": "2024-04-29T01:12:37.690218Z",
     "iopub.status.busy": "2024-04-29T01:12:37.689703Z",
     "iopub.status.idle": "2024-04-29T01:12:38.665259Z",
     "shell.execute_reply": "2024-04-29T01:12:38.662804Z"
    },
    "papermill": {
     "duration": 0.984195,
     "end_time": "2024-04-29T01:12:38.668176",
     "exception": false,
     "start_time": "2024-04-29T01:12:37.683981",
     "status": "completed"
    },
    "tags": []
   },
   "outputs": [
    {
     "name": "stdout",
     "output_type": "stream",
     "text": [
      "/kaggle/input/wine-reviews/winemag-data_first150k.csv\n",
      "/kaggle/input/wine-reviews/winemag-data-130k-v2.json\n",
      "/kaggle/input/wine-reviews/winemag-data-130k-v2.csv\n"
     ]
    }
   ],
   "source": [
    "# This Python 3 environment comes with many helpful analytics libraries installed\n",
    "# It is defined by the kaggle/python Docker image: https://github.com/kaggle/docker-python\n",
    "# For example, here's several helpful packages to load\n",
    "\n",
    "import numpy as np # linear algebra\n",
    "import pandas as pd # data processing, CSV file I/O (e.g. pd.read_csv)\n",
    "\n",
    "# Input data files are available in the read-only \"../input/\" directory\n",
    "# For example, running this (by clicking run or pressing Shift+Enter) will list all files under the input directory\n",
    "\n",
    "import os\n",
    "for dirname, _, filenames in os.walk('/kaggle/input'):\n",
    "    for filename in filenames:\n",
    "        print(os.path.join(dirname, filename))\n",
    "\n",
    "# You can write up to 20GB to the current directory (/kaggle/working/) that gets preserved as output when you create a version using \"Save & Run All\" \n",
    "# You can also write temporary files to /kaggle/temp/, but they won't be saved outside of the current session"
   ]
  },
  {
   "cell_type": "code",
   "execution_count": 2,
   "id": "e3bda8a5",
   "metadata": {
    "execution": {
     "iopub.execute_input": "2024-04-29T01:12:38.675796Z",
     "iopub.status.busy": "2024-04-29T01:12:38.675211Z",
     "iopub.status.idle": "2024-04-29T01:12:40.601704Z",
     "shell.execute_reply": "2024-04-29T01:12:40.600418Z"
    },
    "papermill": {
     "duration": 1.933915,
     "end_time": "2024-04-29T01:12:40.605214",
     "exception": false,
     "start_time": "2024-04-29T01:12:38.671299",
     "status": "completed"
    },
    "tags": []
   },
   "outputs": [],
   "source": [
    "reviews = pd.read_csv(\"/kaggle/input/wine-reviews/winemag-data-130k-v2.csv\", index_col = 0).head()"
   ]
  },
  {
   "cell_type": "code",
   "execution_count": 3,
   "id": "c3e61526",
   "metadata": {
    "execution": {
     "iopub.execute_input": "2024-04-29T01:12:40.612268Z",
     "iopub.status.busy": "2024-04-29T01:12:40.611929Z",
     "iopub.status.idle": "2024-04-29T01:12:40.623271Z",
     "shell.execute_reply": "2024-04-29T01:12:40.622058Z"
    },
    "papermill": {
     "duration": 0.017897,
     "end_time": "2024-04-29T01:12:40.626133",
     "exception": false,
     "start_time": "2024-04-29T01:12:40.608236",
     "status": "completed"
    },
    "tags": []
   },
   "outputs": [
    {
     "data": {
      "text/plain": [
       "1"
      ]
     },
     "execution_count": 3,
     "metadata": {},
     "output_type": "execute_result"
    }
   ],
   "source": [
    "reviews['taster_twitter_handle'].isnull().sum()"
   ]
  },
  {
   "cell_type": "code",
   "execution_count": null,
   "id": "69a4f34d",
   "metadata": {
    "papermill": {
     "duration": 0.002599,
     "end_time": "2024-04-29T01:12:40.631843",
     "exception": false,
     "start_time": "2024-04-29T01:12:40.629244",
     "status": "completed"
    },
    "tags": []
   },
   "outputs": [],
   "source": []
  }
 ],
 "metadata": {
  "kaggle": {
   "accelerator": "none",
   "dataSources": [
    {
     "datasetId": 1442,
     "sourceId": 8172,
     "sourceType": "datasetVersion"
    }
   ],
   "dockerImageVersionId": 30684,
   "isGpuEnabled": false,
   "isInternetEnabled": true,
   "language": "python",
   "sourceType": "notebook"
  },
  "kernelspec": {
   "display_name": "Python 3",
   "language": "python",
   "name": "python3"
  },
  "language_info": {
   "codemirror_mode": {
    "name": "ipython",
    "version": 3
   },
   "file_extension": ".py",
   "mimetype": "text/x-python",
   "name": "python",
   "nbconvert_exporter": "python",
   "pygments_lexer": "ipython3",
   "version": "3.10.13"
  },
  "papermill": {
   "default_parameters": {},
   "duration": 6.540521,
   "end_time": "2024-04-29T01:12:41.055386",
   "environment_variables": {},
   "exception": null,
   "input_path": "__notebook__.ipynb",
   "output_path": "__notebook__.ipynb",
   "parameters": {},
   "start_time": "2024-04-29T01:12:34.514865",
   "version": "2.5.0"
  }
 },
 "nbformat": 4,
 "nbformat_minor": 5
}
